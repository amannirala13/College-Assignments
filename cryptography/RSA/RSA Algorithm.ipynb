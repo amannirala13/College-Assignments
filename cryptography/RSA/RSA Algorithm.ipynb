{
 "cells": [
  {
   "cell_type": "markdown",
   "id": "534ca21e-7e38-459b-a307-97295e7e4c21",
   "metadata": {},
   "source": [
    "---\n",
    "title: RSA Algorithm\n",
    "author: Aman Kumar Nirala\n",
    "date: Sunday, 6 June 2021\n",
    "\n",
    "---"
   ]
  },
  {
   "cell_type": "code",
   "execution_count": 106,
   "id": "9a9cd016-b676-4654-8d20-53267969c257",
   "metadata": {},
   "outputs": [],
   "source": [
    "from random import seed \n",
    "import random \n",
    "import sys\n",
    "from random import randint\n",
    "import time"
   ]
  },
  {
   "cell_type": "code",
   "execution_count": 107,
   "id": "ef34d5f3-7167-4734-94b7-6eab299b1762",
   "metadata": {},
   "outputs": [],
   "source": [
    "def is_prime(x): \n",
    "    count = 0 \n",
    "    for i in range(int(x/2)): \n",
    "        if x % (i+1) == 0: \n",
    "            count = count+1 \n",
    "    return count == 1"
   ]
  },
  {
   "cell_type": "code",
   "execution_count": 108,
   "id": "3bc542fb-3a4f-478c-8054-47557612140a",
   "metadata": {},
   "outputs": [],
   "source": [
    "def gcd(a, b): \n",
    "    while b != 0: \n",
    "        a, b = b, a % b \n",
    "    return a"
   ]
  },
  {
   "cell_type": "code",
   "execution_count": 109,
   "id": "22053a1e-b5f5-463d-abea-0cf3580f3dc8",
   "metadata": {},
   "outputs": [],
   "source": [
    "def multiplicative_inverse(e, phi): \n",
    "    for x in range(1, phi): \n",
    "        if (e * x) % phi == 1: \n",
    "            return x \n",
    "    return None"
   ]
  },
  {
   "cell_type": "code",
   "execution_count": 110,
   "id": "b30fa5c0-fc09-423f-8ef2-0da106008bc8",
   "metadata": {},
   "outputs": [],
   "source": [
    "def generate_keypair():\n",
    "    random.seed(time.time())\n",
    "    p = random.randint(0,1000)\n",
    "    q = random.randint(0,1000)\n",
    "    while True:\n",
    "        if is_prime(p) and is_prime(q) and p != q: \n",
    "            break;\n",
    "        p = random.randint(0,1000)\n",
    "        q = random.randint(0,1000)\n",
    "    n = p * q \n",
    "    phi = (p-1) * (q-1) \n",
    "    e = random.randrange(1, phi) \n",
    "    g = gcd(e, phi) \n",
    "    while g != 1: \n",
    "        e = random.randrange(1, phi) \n",
    "        g = gcd(e, phi) \n",
    "    d = multiplicative_inverse(e, phi) \n",
    "    return ((e, n), (d, n))"
   ]
  },
  {
   "cell_type": "code",
   "execution_count": 111,
   "id": "f283bc8a-f8c6-476c-9a98-7a27416facb4",
   "metadata": {},
   "outputs": [],
   "source": [
    "def encrypt(pk, plaintext): \n",
    "    key, n = pk \n",
    "    cipher = [(ord(char) ** key) % n for char in plaintext] \n",
    "    return cipher"
   ]
  },
  {
   "cell_type": "code",
   "execution_count": 112,
   "id": "6cf428ee-c927-4980-a7bd-0c15641fbc43",
   "metadata": {},
   "outputs": [],
   "source": [
    "def decrypt(pk, ciphertext): \n",
    "    key, n = pk \n",
    "    plain = [chr((char ** key) % n) for char in ciphertext]\n",
    "    return ''.join(plain)"
   ]
  },
  {
   "cell_type": "code",
   "execution_count": 114,
   "id": "a5c7ec35-4c63-4c96-b206-29c0ed90b3e3",
   "metadata": {},
   "outputs": [
    {
     "name": "stdin",
     "output_type": "stream",
     "text": [
      "Enter String to encrypt I love cryptography\n"
     ]
    },
    {
     "name": "stdout",
     "output_type": "stream",
     "text": [
      "114917115103117273222951016711815311510317349353311259243795118162222959208893533335354379574645112592\n",
      "I love cryptography\n"
     ]
    }
   ],
   "source": [
    "# HOW TO USE \n",
    "public, private = generate_keypair() \n",
    "message = input(\"Enter String to encrypt\") \n",
    "encrypted_message = encrypt(private, message) \n",
    "print (''.join(map(lambda x: str(x), encrypted_message))) \n",
    "decrypted_message = decrypt(public, encrypted_message) \n",
    "print(decrypted_message)"
   ]
  }
 ],
 "metadata": {
  "kernelspec": {
   "display_name": "Python 3",
   "language": "python",
   "name": "python3"
  },
  "language_info": {
   "codemirror_mode": {
    "name": "ipython",
    "version": 3
   },
   "file_extension": ".py",
   "mimetype": "text/x-python",
   "name": "python",
   "nbconvert_exporter": "python",
   "pygments_lexer": "ipython3",
   "version": "3.7.6"
  }
 },
 "nbformat": 4,
 "nbformat_minor": 5
}
